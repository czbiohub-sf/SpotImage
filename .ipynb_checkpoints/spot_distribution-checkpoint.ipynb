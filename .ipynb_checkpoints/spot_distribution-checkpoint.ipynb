{
 "cells": [
  {
   "cell_type": "code",
   "execution_count": 36,
   "metadata": {},
   "outputs": [
    {
     "data": {
      "text/plain": [
       "(array([ 2.,  2.,  6.,  6.,  9., 10.,  4.,  3.,  4.,  4.]),\n",
       " array([ 2.23606798,  5.51817081,  8.80027364, 12.08237647, 15.3644793 ,\n",
       "        18.64658213, 21.92868496, 25.21078779, 28.49289062, 31.77499346,\n",
       "        35.05709629]),\n",
       " <a list of 10 Patch objects>)"
      ]
     },
     "execution_count": 36,
     "metadata": {},
     "output_type": "execute_result"
    },
    {
     "data": {
      "image/png": "[encoded data removed]",
      "text/plain": [
       "<Figure size 432x288 with 1 Axes>"
      ]
     },
     "metadata": {},
     "output_type": "display_data"
    }
   ],
   "source": [
    "import numpy as np\n",
    "from sklearn.neighbors import KDTree\n",
    "import matplotlib.pyplot as plt\n",
    "\n",
    "csv_filename = 'MAX_C3-ISP_300_1_nspots50_spot_sig1.75_snr5_20_coord_snr_list.csv'\n",
    "\n",
    "coords_snr = np.genfromtxt(csv_filename, delimiter=',')\n",
    "coords = coords_snr[:,:2]\n",
    "\n",
    "kdt = KDTree(coords, leaf_size=2, metric='euclidean')\n",
    "\n",
    "dist_list = []\n",
    "n_bins = 10\n",
    "for coord in coords:\n",
    "    dist, ind = kdt.query([coord], k=3)\n",
    "    nn_ind = ind[0][1]\n",
    "    nn = coords[nn_ind]   # nearest neighbor of coord\n",
    "    nn_dist = dist[0][1]\n",
    "    dist_list.append(nn_dist)\n",
    "\n",
    "plt.title('Nearest neighbor distances')\n",
    "plt.xlabel('Nearest neighbor distance [pixels]')\n",
    "plt.ylabel('Quantity of workers')\n",
    "plt.hist(dist_list, n_bins)\n",
    "    "
   ]
  },
  {
   "cell_type": "code",
   "execution_count": null,
   "metadata": {},
   "outputs": [],
   "source": []
  }
 ],
 "metadata": {
  "kernelspec": {
   "display_name": "Python 3",
   "language": "python",
   "name": "python3"
  },
  "language_info": {
   "codemirror_mode": {
    "name": "ipython",
    "version": 3
   },
   "file_extension": ".py",
   "mimetype": "text/x-python",
   "name": "python",
   "nbconvert_exporter": "python",
   "pygments_lexer": "ipython3",
   "version": "3.6.5"
  }
 },
 "nbformat": 4,
 "nbformat_minor": 2
}
